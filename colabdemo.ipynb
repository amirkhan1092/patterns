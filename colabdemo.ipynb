{
  "nbformat": 4,
  "nbformat_minor": 0,
  "metadata": {
    "colab": {
      "name": "colabdemo.ipynb",
      "provenance": [],
      "authorship_tag": "ABX9TyPByIS+kGQpWzvOxImQjICl",
      "include_colab_link": true
    },
    "kernelspec": {
      "name": "python3",
      "display_name": "Python 3"
    },
    "language_info": {
      "name": "python"
    }
  },
  "cells": [
    {
      "cell_type": "markdown",
      "metadata": {
        "id": "view-in-github",
        "colab_type": "text"
      },
      "source": [
        "<a href=\"https://colab.research.google.com/github/amirkhan1092/patterns/blob/master/colabdemo.ipynb\" target=\"_parent\"><img src=\"https://colab.research.google.com/assets/colab-badge.svg\" alt=\"Open In Colab\"/></a>"
      ]
    },
    {
      "cell_type": "code",
      "metadata": {
        "colab": {
          "base_uri": "https://localhost:8080/"
        },
        "id": "WpGUPDRSffdT",
        "outputId": "5d52fcbb-1dbf-4fb1-c328-36850292dfda"
      },
      "source": [
        "print('Hello, World!')"
      ],
      "execution_count": 1,
      "outputs": [
        {
          "output_type": "stream",
          "text": [
            "Hello, World!\n"
          ],
          "name": "stdout"
        }
      ]
    },
    {
      "cell_type": "markdown",
      "metadata": {
        "id": "XAM0bgoEgB0j"
      },
      "source": [
        "# Python Programming"
      ]
    },
    {
      "cell_type": "code",
      "metadata": {
        "colab": {
          "base_uri": "https://localhost:8080/"
        },
        "id": "Vi174YX_gC6z",
        "outputId": "8f4079b2-e77e-4aa0-88d2-1f3000e68c59"
      },
      "source": [
        "a = int(input('Enter the value '))\n",
        "for i in range(1, a+1):\n",
        "  print(i, end=' ')\n"
      ],
      "execution_count": 3,
      "outputs": [
        {
          "output_type": "stream",
          "text": [
            "Enter the value 10\n",
            "1 2 3 4 5 6 7 8 9 10 "
          ],
          "name": "stdout"
        }
      ]
    },
    {
      "cell_type": "code",
      "metadata": {
        "colab": {
          "base_uri": "https://localhost:8080/"
        },
        "id": "zUmfsAwhhh-Z",
        "outputId": "6df14815-1155-4ae8-e923-94310b4b479a"
      },
      "source": [
        "n = int(input('enter the height '))\n",
        " \n",
        "for i in range(-n, n+1): \n",
        "    for j in range(1,(n+1)-abs(i)+1): \n",
        "       print(\"*\",end=\"\") \n",
        "    for j in range(1,(2)*abs(i)+1): \n",
        "       print(\" \",end=\"\") \n",
        "    for j in range(1,(n+1)-abs(i)+1): \n",
        "       print(\"*\",end=\"\") \n",
        "    print(\"\\r\") "
      ],
      "execution_count": 4,
      "outputs": [
        {
          "output_type": "stream",
          "text": [
            "enter the height 10\n",
            "*                    *\n",
            "**                  **\n",
            "***                ***\n",
            "****              ****\n",
            "*****            *****\n",
            "******          ******\n",
            "*******        *******\n",
            "********      ********\n",
            "*********    *********\n",
            "**********  **********\n",
            "**********************\n",
            "**********  **********\n",
            "*********    *********\n",
            "********      ********\n",
            "*******        *******\n",
            "******          ******\n",
            "*****            *****\n",
            "****              ****\n",
            "***                ***\n",
            "**                  **\n",
            "*                    *\n"
          ],
          "name": "stdout"
        }
      ]
    }
  ]
}