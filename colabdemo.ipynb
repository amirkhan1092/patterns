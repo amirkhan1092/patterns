{
  "nbformat": 4,
  "nbformat_minor": 0,
  "metadata": {
    "colab": {
      "name": "colabdemo.ipynb",
      "provenance": [],
      "authorship_tag": "ABX9TyPqhNAjXgmSEeLpBAm/f1wB",
      "include_colab_link": true
    },
    "kernelspec": {
      "name": "python3",
      "display_name": "Python 3"
    },
    "language_info": {
      "name": "python"
    }
  },
  "cells": [
    {
      "cell_type": "markdown",
      "metadata": {
        "id": "view-in-github",
        "colab_type": "text"
      },
      "source": [
        "<a href=\"https://colab.research.google.com/github/amirkhan1092/patterns/blob/master/colabdemo.ipynb\" target=\"_parent\"><img src=\"https://colab.research.google.com/assets/colab-badge.svg\" alt=\"Open In Colab\"/></a>"
      ]
    },
    {
      "cell_type": "code",
      "metadata": {
        "colab": {
          "base_uri": "https://localhost:8080/"
        },
        "id": "WpGUPDRSffdT",
        "outputId": "5d52fcbb-1dbf-4fb1-c328-36850292dfda"
      },
      "source": [
        "print('Hello, World!')"
      ],
      "execution_count": 1,
      "outputs": [
        {
          "output_type": "stream",
          "text": [
            "Hello, World!\n"
          ],
          "name": "stdout"
        }
      ]
    },
    {
      "cell_type": "markdown",
      "metadata": {
        "id": "XAM0bgoEgB0j"
      },
      "source": [
        "a = input()\n",
        "b = input()\n",
        "print(a+b)"
      ]
    },
    {
      "cell_type": "code",
      "metadata": {
        "colab": {
          "base_uri": "https://localhost:8080/"
        },
        "id": "Vi174YX_gC6z",
        "outputId": "9a8bbc6b-97df-46bc-8d34-37e4e2cf4ff7"
      },
      "source": [
        "a = input()\n",
        "b = input()\n",
        "print(a+b)"
      ],
      "execution_count": 2,
      "outputs": [
        {
          "output_type": "stream",
          "text": [
            "5\n",
            "7\n",
            "57\n"
          ],
          "name": "stdout"
        }
      ]
    }
  ]
}